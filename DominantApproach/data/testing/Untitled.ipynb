{
 "cells": [
  {
   "cell_type": "code",
   "execution_count": 1,
   "id": "f132314a",
   "metadata": {},
   "outputs": [],
   "source": [
    "import pickle\n"
   ]
  },
  {
   "cell_type": "code",
   "execution_count": 2,
   "id": "5c5aafd0",
   "metadata": {},
   "outputs": [
    {
     "data": {
      "text/plain": [
       "[97,\n",
       " 15,\n",
       " 30,\n",
       " 42,\n",
       " 55,\n",
       " 47,\n",
       " 18,\n",
       " 93,\n",
       " 57,\n",
       " 27,\n",
       " 11,\n",
       " 89,\n",
       " 27,\n",
       " 73,\n",
       " 78,\n",
       " 87,\n",
       " 42,\n",
       " 61,\n",
       " 19,\n",
       " 32,\n",
       " 43,\n",
       " 42,\n",
       " 15,\n",
       " 57,\n",
       " 44,\n",
       " 23,\n",
       " 25,\n",
       " 56,\n",
       " 76,\n",
       " 51]"
      ]
     },
     "execution_count": 2,
     "metadata": {},
     "output_type": "execute_result"
    }
   ],
   "source": [
    "with open('profits_30_300.pkl', 'rb') as f:\n",
    "    t = pickle.load(f)\n",
    "t"
   ]
  },
  {
   "cell_type": "code",
   "execution_count": null,
   "id": "a16a1c1f",
   "metadata": {},
   "outputs": [],
   "source": []
  }
 ],
 "metadata": {
  "kernelspec": {
   "display_name": "Python 3 (ipykernel)",
   "language": "python",
   "name": "python3"
  },
  "language_info": {
   "codemirror_mode": {
    "name": "ipython",
    "version": 3
   },
   "file_extension": ".py",
   "mimetype": "text/x-python",
   "name": "python",
   "nbconvert_exporter": "python",
   "pygments_lexer": "ipython3",
   "version": "3.8.13"
  }
 },
 "nbformat": 4,
 "nbformat_minor": 5
}
